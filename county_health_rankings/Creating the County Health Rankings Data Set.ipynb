{
 "cells": [
  {
   "cell_type": "markdown",
   "metadata": {},
   "source": [
    "This script processes the original <a href=\"http://www.countyhealthrankings.org/explore-health-rankings/rankings-data-documentation\">County Health Rankings Data</a> into a format a bit more suitable for my teaching purposes."
   ]
  },
  {
   "cell_type": "code",
   "execution_count": 1,
   "metadata": {},
   "outputs": [],
   "source": [
    "import numpy as np\n",
    "import pandas as pd\n",
    "import matplotlib.pyplot as plt\n",
    "import os"
   ]
  },
  {
   "cell_type": "code",
   "execution_count": 2,
   "metadata": {},
   "outputs": [],
   "source": [
    "def friendlify(s):\n",
    "    s = s.replace('^','')\n",
    "    s = s.replace('\\n','')\n",
    "    return s"
   ]
  },
  {
   "cell_type": "code",
   "execution_count": 3,
   "metadata": {},
   "outputs": [],
   "source": [
    "def read_chr_data(fn,sheet_name='Ranked Measure Data'):\n",
    "    df = pd.read_excel(fn,sheet_name=sheet_name)\n",
    "    top_row_values = df.columns.values\n",
    "    for idx,item in enumerate(top_row_values.copy()):\n",
    "        if item.startswith('Unnamed'):\n",
    "            top_row_values[idx] = top_row_values[idx-1]       \n",
    "    df = pd.read_excel(fn,sheet_name=sheet_name,skiprows=1)\n",
    "    middle_row_values = df.columns.values\n",
    "    column_names = list(middle_row_values[:3])\n",
    "    top_row_values = top_row_values[3:]\n",
    "    for i in range(len(top_row_values)):\n",
    "        column_names.append(top_row_values[i] + ' - ' + middle_row_values[i+3].split('.')[0])        \n",
    "    df = pd.read_excel(fn,sheet_name=sheet_name,skiprows=1,names=column_names,dtype={'FIPS':str})\n",
    "\n",
    "    for column in df.columns.values:\n",
    "        df = df.rename(columns={column:friendlify(column)})\n",
    "    \n",
    "    # Remove blank lines that sometimes show up on the import.\n",
    "    try:\n",
    "        if np.isnan(df.iloc[-1].State):\n",
    "            df = df.iloc[:-1]\n",
    "    except:\n",
    "        _ = True\n",
    "    return df"
   ]
  },
  {
   "cell_type": "code",
   "execution_count": 4,
   "metadata": {},
   "outputs": [],
   "source": [
    "chr_datasets = {2010:'original_data/2010 County Health Rankings National Data_v2.xls',\n",
    "                2011:'original_data/2011 County Health Rankings National Data_v2.xls',\n",
    "                2012:'original_data/2012 County Health Rankings National Data_v2.xls',\n",
    "                2013:'original_data/2013CountyHealthRankingsNationalData.xls',\n",
    "                2014:'original_data/2014 County Health Rankings Data - v6.xls',\n",
    "                2015:'original_data/2015 County Health Rankings Data - v3.xls',\n",
    "                2016:'original_data/2016 County Health Rankings Data - v3.xls',\n",
    "                2017:'original_data/2017CountyHealthRankingsData.xls',\n",
    "                2018:'original_data/2018 County Health Rankings Data - v2.xls',\n",
    "                2019:'original_data/2019 County Health Rankings Data - v3.xls',\n",
    "                2020:'original_data/2019 County Health Rankings Data - v3.xls',\n",
    "                2021:'original_data/2021 County Health Rankings Data - v1.xlsx',\n",
    "                2022:'original_data/2022 County Health Rankings Data - v1.xlsx'}"
   ]
  },
  {
   "cell_type": "code",
   "execution_count": 5,
   "metadata": {},
   "outputs": [
    {
     "name": "stdout",
     "output_type": "stream",
     "text": [
      "2010\n",
      "2011\n",
      "2012\n",
      "2013\n",
      "2014\n",
      "2015\n",
      "2016\n",
      "2017\n",
      "2018\n",
      "2019\n",
      "2020\n",
      "2021\n",
      "2022\n"
     ]
    }
   ],
   "source": [
    "years = np.sort(list(chr_datasets.keys()))\n",
    "\n",
    "for year in years:\n",
    "    print(year)\n",
    "    fn = chr_datasets[year]\n",
    "    df0 = read_chr_data(fn,sheet_name='Ranked Measure Data')\n",
    "    \n",
    "    if year > 2010:\n",
    "        df1 = read_chr_data(fn,sheet_name='Additional Measure Data')\n",
    "\n",
    "        # Drop duplicate columns in second spreadsheet and merge the tables\n",
    "        df1 = df1.drop(columns=['State','County'])\n",
    "        df = df0.merge(df1,how='left',on='FIPS')  \n",
    "    else:\n",
    "        df = df0\n",
    "        \n",
    "    # Make any other necessary repairs:\n",
    "    # Shannon County was renamed to Oglala Lakota County in 2015\n",
    "    if year >= 2015:\n",
    "        df.loc[df['FIPS']=='46113','FIPS'] = '46102'\n",
    "    \n",
    "    # Remove columns that are confidence intervals or quartiles\n",
    "    which_cols = ~(df.columns.str.contains('CI')) & ~(df.columns.str.contains('Quartile'))\n",
    "    df = df.loc[:,which_cols] \n",
    "    \n",
    "    # Write out the data\n",
    "    df.to_csv('chr_' + str(year) + '.csv',index=False)"
   ]
  },
  {
   "cell_type": "code",
   "execution_count": null,
   "metadata": {},
   "outputs": [],
   "source": []
  }
 ],
 "metadata": {
  "kernelspec": {
   "display_name": "Python 3 (ipykernel)",
   "language": "python",
   "name": "python3"
  },
  "language_info": {
   "codemirror_mode": {
    "name": "ipython",
    "version": 3
   },
   "file_extension": ".py",
   "mimetype": "text/x-python",
   "name": "python",
   "nbconvert_exporter": "python",
   "pygments_lexer": "ipython3",
   "version": "3.9.0"
  }
 },
 "nbformat": 4,
 "nbformat_minor": 2
}
