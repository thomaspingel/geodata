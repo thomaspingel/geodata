{
 "cells": [
  {
   "cell_type": "markdown",
   "metadata": {},
   "source": [
    "This is an example of correcting a bad field using Pandas for later use in GIS.  The <a href=\"https://data.baltimorecity.gov/Public-Safety/911-Police-Calls-for-Service/xviu-ezkt\" target=\"_blank\">Baltimore 911 call data</a> includes a location field that combines an address and a latitude/longitude.  We can use Pandas to help us split the field correctly."
   ]
  },
  {
   "cell_type": "code",
   "execution_count": 1,
   "metadata": {},
   "outputs": [],
   "source": [
    "import pandas as pd"
   ]
  },
  {
   "cell_type": "code",
   "execution_count": 2,
   "metadata": {},
   "outputs": [],
   "source": [
    "df = pd.read_csv('911_Police_Calls_for_Service.csv',nrows=10000)"
   ]
  },
  {
   "cell_type": "code",
   "execution_count": 3,
   "metadata": {},
   "outputs": [
    {
     "name": "stdout",
     "output_type": "stream",
     "text": [
      "10000\n"
     ]
    }
   ],
   "source": [
    "# How many rows are there?\n",
    "print(len(df))"
   ]
  },
  {
   "cell_type": "code",
   "execution_count": 4,
   "metadata": {},
   "outputs": [
    {
     "data": {
      "text/html": [
       "<div>\n",
       "<style scoped>\n",
       "    .dataframe tbody tr th:only-of-type {\n",
       "        vertical-align: middle;\n",
       "    }\n",
       "\n",
       "    .dataframe tbody tr th {\n",
       "        vertical-align: top;\n",
       "    }\n",
       "\n",
       "    .dataframe thead th {\n",
       "        text-align: right;\n",
       "    }\n",
       "</style>\n",
       "<table border=\"1\" class=\"dataframe\">\n",
       "  <thead>\n",
       "    <tr style=\"text-align: right;\">\n",
       "      <th></th>\n",
       "      <th>recordId</th>\n",
       "      <th>callDateTime</th>\n",
       "      <th>priority</th>\n",
       "      <th>district</th>\n",
       "      <th>description</th>\n",
       "      <th>callNumber</th>\n",
       "      <th>incidentLocation</th>\n",
       "      <th>location</th>\n",
       "    </tr>\n",
       "  </thead>\n",
       "  <tbody>\n",
       "    <tr>\n",
       "      <th>0</th>\n",
       "      <td>1423624</td>\n",
       "      <td>05/04/2016 09:58:00 PM</td>\n",
       "      <td>High</td>\n",
       "      <td>ND</td>\n",
       "      <td>SILENT ALARM</td>\n",
       "      <td>P161253035</td>\n",
       "      <td>400 WINSTON AV</td>\n",
       "      <td>400 WINSTON AV\\nBALTIMORE, MD\\n(39.349792, -76...</td>\n",
       "    </tr>\n",
       "    <tr>\n",
       "      <th>1</th>\n",
       "      <td>1402097</td>\n",
       "      <td>04/27/2016 03:57:00 PM</td>\n",
       "      <td>Medium</td>\n",
       "      <td>SW</td>\n",
       "      <td>911/HANGUP</td>\n",
       "      <td>P161182081</td>\n",
       "      <td>1400 BRADDISH AV</td>\n",
       "      <td>1400 BRADDISH AV\\nBALTIMORE, MD\\n(39.303941, -...</td>\n",
       "    </tr>\n",
       "    <tr>\n",
       "      <th>2</th>\n",
       "      <td>1420176</td>\n",
       "      <td>05/03/2016 06:40:00 PM</td>\n",
       "      <td>Medium</td>\n",
       "      <td>ED</td>\n",
       "      <td>DISORDERLY</td>\n",
       "      <td>P161242705</td>\n",
       "      <td>200 E NORTH AV</td>\n",
       "      <td>200 E NORTH AV\\nBALTIMORE, MD\\n(39.311294, -76...</td>\n",
       "    </tr>\n",
       "    <tr>\n",
       "      <th>3</th>\n",
       "      <td>1423653</td>\n",
       "      <td>05/04/2016 10:10:00 PM</td>\n",
       "      <td>Medium</td>\n",
       "      <td>NE</td>\n",
       "      <td>911/NO  VOICE</td>\n",
       "      <td>P161253068</td>\n",
       "      <td>2500-1 HARFORD RD</td>\n",
       "      <td>2500 1 HARFORD RD\\nBALTIMORE, MD\\n(39.316763, ...</td>\n",
       "    </tr>\n",
       "    <tr>\n",
       "      <th>4</th>\n",
       "      <td>1417949</td>\n",
       "      <td>05/03/2016 12:29:00 AM</td>\n",
       "      <td>Non-Emergency</td>\n",
       "      <td>SD</td>\n",
       "      <td>Private Tow</td>\n",
       "      <td>P161240063</td>\n",
       "      <td>100 W PATAPSCO AV</td>\n",
       "      <td>100 W PATAPSCO AV\\nBALTIMORE, MD\\n(39.239215, ...</td>\n",
       "    </tr>\n",
       "  </tbody>\n",
       "</table>\n",
       "</div>"
      ],
      "text/plain": [
       "   recordId            callDateTime       priority district    description  \\\n",
       "0   1423624  05/04/2016 09:58:00 PM           High       ND   SILENT ALARM   \n",
       "1   1402097  04/27/2016 03:57:00 PM         Medium       SW     911/HANGUP   \n",
       "2   1420176  05/03/2016 06:40:00 PM         Medium       ED     DISORDERLY   \n",
       "3   1423653  05/04/2016 10:10:00 PM         Medium       NE  911/NO  VOICE   \n",
       "4   1417949  05/03/2016 12:29:00 AM  Non-Emergency       SD    Private Tow   \n",
       "\n",
       "   callNumber   incidentLocation  \\\n",
       "0  P161253035     400 WINSTON AV   \n",
       "1  P161182081   1400 BRADDISH AV   \n",
       "2  P161242705     200 E NORTH AV   \n",
       "3  P161253068  2500-1 HARFORD RD   \n",
       "4  P161240063  100 W PATAPSCO AV   \n",
       "\n",
       "                                            location  \n",
       "0  400 WINSTON AV\\nBALTIMORE, MD\\n(39.349792, -76...  \n",
       "1  1400 BRADDISH AV\\nBALTIMORE, MD\\n(39.303941, -...  \n",
       "2  200 E NORTH AV\\nBALTIMORE, MD\\n(39.311294, -76...  \n",
       "3  2500 1 HARFORD RD\\nBALTIMORE, MD\\n(39.316763, ...  \n",
       "4  100 W PATAPSCO AV\\nBALTIMORE, MD\\n(39.239215, ...  "
      ]
     },
     "execution_count": 4,
     "metadata": {},
     "output_type": "execute_result"
    }
   ],
   "source": [
    "# Inspect the dataframe\n",
    "df.head()"
   ]
  },
  {
   "cell_type": "markdown",
   "metadata": {},
   "source": [
    "We'll fix the bad location column in the blocks below.  The field contains a number of problems.  It's generally an address with an attached latitude longitude.  The \"\\n\" is a newline character, and the lat/lon is placed in parentheses."
   ]
  },
  {
   "cell_type": "code",
   "execution_count": 5,
   "metadata": {},
   "outputs": [],
   "source": [
    "# Create a temporary series object from the malformed \"location\" column, starting the split at the left parentheses\n",
    "location = df['location'].str.rsplit('(',n=1,expand=True)[1]\n",
    "# Replace the right parentheses with nothing (i.e., remove right parentheses)\n",
    "location = location.str.replace(')','')\n",
    "# Split again on the comma to get lat and lon, yielding a dataframe\n",
    "location = location.str.split(',',expand=True)"
   ]
  },
  {
   "cell_type": "code",
   "execution_count": 6,
   "metadata": {},
   "outputs": [],
   "source": [
    "# Now we can assign a new field of just the latitude and longitudes\n",
    "\n",
    "df['latitude'] = location.loc[:,0]\n",
    "df['longitude'] = location.loc[:,1]"
   ]
  },
  {
   "cell_type": "code",
   "execution_count": 7,
   "metadata": {},
   "outputs": [
    {
     "data": {
      "text/html": [
       "<div>\n",
       "<style scoped>\n",
       "    .dataframe tbody tr th:only-of-type {\n",
       "        vertical-align: middle;\n",
       "    }\n",
       "\n",
       "    .dataframe tbody tr th {\n",
       "        vertical-align: top;\n",
       "    }\n",
       "\n",
       "    .dataframe thead th {\n",
       "        text-align: right;\n",
       "    }\n",
       "</style>\n",
       "<table border=\"1\" class=\"dataframe\">\n",
       "  <thead>\n",
       "    <tr style=\"text-align: right;\">\n",
       "      <th></th>\n",
       "      <th>recordId</th>\n",
       "      <th>callDateTime</th>\n",
       "      <th>priority</th>\n",
       "      <th>district</th>\n",
       "      <th>description</th>\n",
       "      <th>callNumber</th>\n",
       "      <th>incidentLocation</th>\n",
       "      <th>location</th>\n",
       "      <th>latitude</th>\n",
       "      <th>longitude</th>\n",
       "    </tr>\n",
       "  </thead>\n",
       "  <tbody>\n",
       "    <tr>\n",
       "      <th>0</th>\n",
       "      <td>1423624</td>\n",
       "      <td>05/04/2016 09:58:00 PM</td>\n",
       "      <td>High</td>\n",
       "      <td>ND</td>\n",
       "      <td>SILENT ALARM</td>\n",
       "      <td>P161253035</td>\n",
       "      <td>400 WINSTON AV</td>\n",
       "      <td>400 WINSTON AV\\nBALTIMORE, MD\\n(39.349792, -76...</td>\n",
       "      <td>39.349792</td>\n",
       "      <td>-76.613468</td>\n",
       "    </tr>\n",
       "    <tr>\n",
       "      <th>1</th>\n",
       "      <td>1402097</td>\n",
       "      <td>04/27/2016 03:57:00 PM</td>\n",
       "      <td>Medium</td>\n",
       "      <td>SW</td>\n",
       "      <td>911/HANGUP</td>\n",
       "      <td>P161182081</td>\n",
       "      <td>1400 BRADDISH AV</td>\n",
       "      <td>1400 BRADDISH AV\\nBALTIMORE, MD\\n(39.303941, -...</td>\n",
       "      <td>39.303941</td>\n",
       "      <td>-76.66084</td>\n",
       "    </tr>\n",
       "    <tr>\n",
       "      <th>2</th>\n",
       "      <td>1420176</td>\n",
       "      <td>05/03/2016 06:40:00 PM</td>\n",
       "      <td>Medium</td>\n",
       "      <td>ED</td>\n",
       "      <td>DISORDERLY</td>\n",
       "      <td>P161242705</td>\n",
       "      <td>200 E NORTH AV</td>\n",
       "      <td>200 E NORTH AV\\nBALTIMORE, MD\\n(39.311294, -76...</td>\n",
       "      <td>39.311294</td>\n",
       "      <td>-76.612806</td>\n",
       "    </tr>\n",
       "    <tr>\n",
       "      <th>3</th>\n",
       "      <td>1423653</td>\n",
       "      <td>05/04/2016 10:10:00 PM</td>\n",
       "      <td>Medium</td>\n",
       "      <td>NE</td>\n",
       "      <td>911/NO  VOICE</td>\n",
       "      <td>P161253068</td>\n",
       "      <td>2500-1 HARFORD RD</td>\n",
       "      <td>2500 1 HARFORD RD\\nBALTIMORE, MD\\n(39.316763, ...</td>\n",
       "      <td>39.316763</td>\n",
       "      <td>-76.595269</td>\n",
       "    </tr>\n",
       "    <tr>\n",
       "      <th>4</th>\n",
       "      <td>1417949</td>\n",
       "      <td>05/03/2016 12:29:00 AM</td>\n",
       "      <td>Non-Emergency</td>\n",
       "      <td>SD</td>\n",
       "      <td>Private Tow</td>\n",
       "      <td>P161240063</td>\n",
       "      <td>100 W PATAPSCO AV</td>\n",
       "      <td>100 W PATAPSCO AV\\nBALTIMORE, MD\\n(39.239215, ...</td>\n",
       "      <td>39.239215</td>\n",
       "      <td>-76.61151</td>\n",
       "    </tr>\n",
       "  </tbody>\n",
       "</table>\n",
       "</div>"
      ],
      "text/plain": [
       "   recordId            callDateTime       priority district    description  \\\n",
       "0   1423624  05/04/2016 09:58:00 PM           High       ND   SILENT ALARM   \n",
       "1   1402097  04/27/2016 03:57:00 PM         Medium       SW     911/HANGUP   \n",
       "2   1420176  05/03/2016 06:40:00 PM         Medium       ED     DISORDERLY   \n",
       "3   1423653  05/04/2016 10:10:00 PM         Medium       NE  911/NO  VOICE   \n",
       "4   1417949  05/03/2016 12:29:00 AM  Non-Emergency       SD    Private Tow   \n",
       "\n",
       "   callNumber   incidentLocation  \\\n",
       "0  P161253035     400 WINSTON AV   \n",
       "1  P161182081   1400 BRADDISH AV   \n",
       "2  P161242705     200 E NORTH AV   \n",
       "3  P161253068  2500-1 HARFORD RD   \n",
       "4  P161240063  100 W PATAPSCO AV   \n",
       "\n",
       "                                            location   latitude    longitude  \n",
       "0  400 WINSTON AV\\nBALTIMORE, MD\\n(39.349792, -76...  39.349792   -76.613468  \n",
       "1  1400 BRADDISH AV\\nBALTIMORE, MD\\n(39.303941, -...  39.303941    -76.66084  \n",
       "2  200 E NORTH AV\\nBALTIMORE, MD\\n(39.311294, -76...  39.311294   -76.612806  \n",
       "3  2500 1 HARFORD RD\\nBALTIMORE, MD\\n(39.316763, ...  39.316763   -76.595269  \n",
       "4  100 W PATAPSCO AV\\nBALTIMORE, MD\\n(39.239215, ...  39.239215    -76.61151  "
      ]
     },
     "execution_count": 7,
     "metadata": {},
     "output_type": "execute_result"
    }
   ],
   "source": [
    "# And inspect the result\n",
    "df.head()"
   ]
  },
  {
   "cell_type": "code",
   "execution_count": 8,
   "metadata": {},
   "outputs": [],
   "source": [
    "# And finally save it back out\n",
    "\n",
    "df.to_csv('baltimore_911_10k.csv',index=False)"
   ]
  },
  {
   "cell_type": "code",
   "execution_count": null,
   "metadata": {},
   "outputs": [],
   "source": []
  }
 ],
 "metadata": {
  "kernelspec": {
   "display_name": "Python 3",
   "language": "python",
   "name": "python3"
  },
  "language_info": {
   "codemirror_mode": {
    "name": "ipython",
    "version": 3
   },
   "file_extension": ".py",
   "mimetype": "text/x-python",
   "name": "python",
   "nbconvert_exporter": "python",
   "pygments_lexer": "ipython3",
   "version": "3.7.0"
  }
 },
 "nbformat": 4,
 "nbformat_minor": 2
}
